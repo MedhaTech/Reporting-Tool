{
 "cells": [
  {
   "cell_type": "markdown",
   "id": "5e633b6b-490b-4aae-a9e4-880cad04b876",
   "metadata": {},
   "source": [
    "## Data Pre-Processing"
   ]
  },
  {
   "cell_type": "code",
   "execution_count": 1,
   "id": "3d593177-40ba-4621-8446-9ddd290362d0",
   "metadata": {},
   "outputs": [],
   "source": [
    "import numpy as np\n",
    "import pandas as pd"
   ]
  },
  {
   "cell_type": "code",
   "execution_count": 2,
   "id": "cb4b21ca-4ad3-4bb6-88c3-86317e37cd63",
   "metadata": {},
   "outputs": [],
   "source": [
    "df = pd.read_excel(\"data-4.xlsx\")  "
   ]
  },
  {
   "cell_type": "code",
   "execution_count": 3,
   "id": "01144ac2-7e94-4408-bd97-bc6c21b037f6",
   "metadata": {},
   "outputs": [
    {
     "data": {
      "text/html": [
       "<div>\n",
       "<style scoped>\n",
       "    .dataframe tbody tr th:only-of-type {\n",
       "        vertical-align: middle;\n",
       "    }\n",
       "\n",
       "    .dataframe tbody tr th {\n",
       "        vertical-align: top;\n",
       "    }\n",
       "\n",
       "    .dataframe thead th {\n",
       "        text-align: right;\n",
       "    }\n",
       "</style>\n",
       "<table border=\"1\" class=\"dataframe\">\n",
       "  <thead>\n",
       "    <tr style=\"text-align: right;\">\n",
       "      <th></th>\n",
       "      <th>User_id</th>\n",
       "      <th>Name</th>\n",
       "      <th>Quiz_id</th>\n",
       "      <th>Attempts</th>\n",
       "      <th>Score</th>\n",
       "      <th>Response</th>\n",
       "    </tr>\n",
       "  </thead>\n",
       "  <tbody>\n",
       "    <tr>\n",
       "      <th>0</th>\n",
       "      <td>656</td>\n",
       "      <td>Avani Sharma</td>\n",
       "      <td>4</td>\n",
       "      <td>1</td>\n",
       "      <td>9.0</td>\n",
       "      <td>{\"1\":{\"quiz_question_id\":31,\"selected_option\":...</td>\n",
       "    </tr>\n",
       "    <tr>\n",
       "      <th>1</th>\n",
       "      <td>6890</td>\n",
       "      <td>geetha</td>\n",
       "      <td>4</td>\n",
       "      <td>1</td>\n",
       "      <td>9.0</td>\n",
       "      <td>{\"1\":{\"quiz_question_id\":31,\"selected_option\":...</td>\n",
       "    </tr>\n",
       "    <tr>\n",
       "      <th>2</th>\n",
       "      <td>6891</td>\n",
       "      <td>aashish</td>\n",
       "      <td>4</td>\n",
       "      <td>1</td>\n",
       "      <td>9.0</td>\n",
       "      <td>{\"1\":{\"quiz_question_id\":31,\"selected_option\":...</td>\n",
       "    </tr>\n",
       "    <tr>\n",
       "      <th>3</th>\n",
       "      <td>367</td>\n",
       "      <td>Mridhul Khajuria</td>\n",
       "      <td>4</td>\n",
       "      <td>1</td>\n",
       "      <td>5.0</td>\n",
       "      <td>{\"1\":{\"quiz_question_id\":31,\"selected_option\":...</td>\n",
       "    </tr>\n",
       "    <tr>\n",
       "      <th>4</th>\n",
       "      <td>367</td>\n",
       "      <td>Mridhul Khajuria</td>\n",
       "      <td>4</td>\n",
       "      <td>2</td>\n",
       "      <td>9.0</td>\n",
       "      <td>{\"1\":{\"quiz_question_id\":31,\"selected_option\":...</td>\n",
       "    </tr>\n",
       "  </tbody>\n",
       "</table>\n",
       "</div>"
      ],
      "text/plain": [
       "   User_id              Name  Quiz_id  Attempts  Score  \\\n",
       "0      656      Avani Sharma        4         1    9.0   \n",
       "1     6890            geetha        4         1    9.0   \n",
       "2     6891           aashish        4         1    9.0   \n",
       "3      367  Mridhul Khajuria        4         1    5.0   \n",
       "4      367  Mridhul Khajuria        4         2    9.0   \n",
       "\n",
       "                                            Response  \n",
       "0  {\"1\":{\"quiz_question_id\":31,\"selected_option\":...  \n",
       "1  {\"1\":{\"quiz_question_id\":31,\"selected_option\":...  \n",
       "2  {\"1\":{\"quiz_question_id\":31,\"selected_option\":...  \n",
       "3  {\"1\":{\"quiz_question_id\":31,\"selected_option\":...  \n",
       "4  {\"1\":{\"quiz_question_id\":31,\"selected_option\":...  "
      ]
     },
     "execution_count": 3,
     "metadata": {},
     "output_type": "execute_result"
    }
   ],
   "source": [
    "df.head()"
   ]
  },
  {
   "cell_type": "code",
   "execution_count": 4,
   "id": "8d8803e4-400b-4aee-8e1e-b7ec57bf59f5",
   "metadata": {},
   "outputs": [
    {
     "data": {
      "text/plain": [
       "3386532"
      ]
     },
     "execution_count": 4,
     "metadata": {},
     "output_type": "execute_result"
    }
   ],
   "source": [
    "df.size"
   ]
  },
  {
   "cell_type": "code",
   "execution_count": 5,
   "id": "82eee0b5-911e-49a3-8f4e-0ce1a40eb4b1",
   "metadata": {},
   "outputs": [
    {
     "data": {
      "text/plain": [
       "(564422, 6)"
      ]
     },
     "execution_count": 5,
     "metadata": {},
     "output_type": "execute_result"
    }
   ],
   "source": [
    "df.shape"
   ]
  },
  {
   "cell_type": "code",
   "execution_count": 6,
   "id": "34ae22a0-7d89-45b8-b35e-61b739e37149",
   "metadata": {},
   "outputs": [
    {
     "name": "stdout",
     "output_type": "stream",
     "text": [
      "<class 'pandas.core.frame.DataFrame'>\n",
      "RangeIndex: 564422 entries, 0 to 564421\n",
      "Data columns (total 6 columns):\n",
      " #   Column    Non-Null Count   Dtype  \n",
      "---  ------    --------------   -----  \n",
      " 0   User_id   564422 non-null  int64  \n",
      " 1   Name      564422 non-null  object \n",
      " 2   Quiz_id   564422 non-null  int64  \n",
      " 3   Attempts  564422 non-null  int64  \n",
      " 4   Score     563763 non-null  float64\n",
      " 5   Response  564422 non-null  object \n",
      "dtypes: float64(1), int64(3), object(2)\n",
      "memory usage: 25.8+ MB\n"
     ]
    }
   ],
   "source": [
    "df.info()"
   ]
  },
  {
   "cell_type": "markdown",
   "id": "05090e56-a25e-4bcc-8e24-db802a987339",
   "metadata": {},
   "source": [
    "## Parsing Json to making columns"
   ]
  },
  {
   "cell_type": "code",
   "execution_count": 7,
   "id": "f40f6703-4c61-472a-9d9d-693699e2fc7e",
   "metadata": {},
   "outputs": [],
   "source": [
    "import json\n",
    "\n",
    "df['Response'] = df['Response'].apply(lambda x: json.loads(x) if isinstance(x, str) else x)"
   ]
  },
  {
   "cell_type": "code",
   "execution_count": 8,
   "id": "d729e7e0-c29a-4e23-88e4-3d32bd5f6030",
   "metadata": {},
   "outputs": [],
   "source": [
    "processed_rows = []"
   ]
  },
  {
   "cell_type": "code",
   "execution_count": 9,
   "id": "b237d967-24b0-4580-95d6-d3efa2958309",
   "metadata": {},
   "outputs": [],
   "source": [
    "for idx, row in df.iterrows():\n",
    "    base_data = {\n",
    "        'User_id': row['User_id'],\n",
    "        'Name': row['Name'],\n",
    "        'Quiz_id': row['Quiz_id'],\n",
    "        'Attempts': row['Attempts'],\n",
    "        'Total_Score': row['Score']  \n",
    "    }\n",
    "    \n",
    "    response_dict = row['Response']\n",
    "    for question_key, answer in response_dict.items():\n",
    "        answer['Question_Key'] = question_key\n",
    "        \n",
    "        combined_row = {**base_data, **answer}\n",
    "        processed_rows.append(combined_row)"
   ]
  },
  {
   "cell_type": "code",
   "execution_count": 10,
   "id": "dc9cd31d-ce04-4898-8db1-84f171f60727",
   "metadata": {},
   "outputs": [],
   "source": [
    "df_processed = pd.DataFrame(processed_rows)"
   ]
  },
  {
   "cell_type": "code",
   "execution_count": 11,
   "id": "31f4c294-945c-4abf-a0e1-3ecc79072533",
   "metadata": {},
   "outputs": [
    {
     "name": "stdout",
     "output_type": "stream",
     "text": [
      "   User_id          Name  Quiz_id  Attempts  Total_Score  quiz_question_id  \\\n",
      "0      656  Avani Sharma        4         1          9.0                31   \n",
      "1      656  Avani Sharma        4         1          9.0                32   \n",
      "2      656  Avani Sharma        4         1          9.0                33   \n",
      "3      656  Avani Sharma        4         1          9.0                34   \n",
      "4      656  Avani Sharma        4         1          9.0                35   \n",
      "\n",
      "                                     selected_option  attempts  \\\n",
      "0                Yes, it was fun and we learnt a lot         1   \n",
      "1                                               Both         1   \n",
      "2                                 A-3\\nB-2\\nC-4\\nD-1         1   \n",
      "3                                            Process         1   \n",
      "4  Some problems may have both types and some may...         1   \n",
      "\n",
      "                                            question  \\\n",
      "0  Were you able to finish the Workbook for Modul...   \n",
      "1  What kind of solution is this? \\n\\nIdea : 'Boo...   \n",
      "2                       Match column A to column B     \n",
      "3  What kind of solution is this? \\n\\nIdea : 'A t...   \n",
      "4  A problem can have only product based or proce...   \n",
      "\n",
      "                                      correct_answer level  question_no  \\\n",
      "0                Yes, it was fun and we learnt a lot  HARD            1   \n",
      "1                                            Product  HARD            2   \n",
      "2                                 A-3\\nB-2\\nC-4\\nD-1  HARD            3   \n",
      "3                                            Process  HARD            4   \n",
      "4  Some problems may have both types and some may...  HARD            5   \n",
      "\n",
      "   is_correct  score Question_Key  \n",
      "0        True    9.0            1  \n",
      "1       False    1.0            2  \n",
      "2        True    2.0            3  \n",
      "3        True    3.0            4  \n",
      "4        True    4.0            5  \n"
     ]
    }
   ],
   "source": [
    "print(df_processed.head())"
   ]
  },
  {
   "cell_type": "markdown",
   "id": "2ae0b459-e804-4f01-93e0-b3216df3b004",
   "metadata": {},
   "source": [
    "## Other Basic Pre-Processing"
   ]
  },
  {
   "cell_type": "code",
   "execution_count": 12,
   "id": "671dcf03-dae7-47f2-9faf-4c8020602b87",
   "metadata": {},
   "outputs": [
    {
     "data": {
      "text/plain": [
       "Index(['User_id', 'Name', 'Quiz_id', 'Attempts', 'Total_Score',\n",
       "       'quiz_question_id', 'selected_option', 'attempts', 'question',\n",
       "       'correct_answer', 'level', 'question_no', 'is_correct', 'score',\n",
       "       'Question_Key'],\n",
       "      dtype='object')"
      ]
     },
     "execution_count": 12,
     "metadata": {},
     "output_type": "execute_result"
    }
   ],
   "source": [
    "df_processed.columns"
   ]
  },
  {
   "cell_type": "code",
   "execution_count": 13,
   "id": "5bbbe6bc-1282-48eb-a08a-c025d7ee7714",
   "metadata": {},
   "outputs": [
    {
     "data": {
      "text/plain": [
       "(5639003, 15)"
      ]
     },
     "execution_count": 13,
     "metadata": {},
     "output_type": "execute_result"
    }
   ],
   "source": [
    "df_processed.shape"
   ]
  },
  {
   "cell_type": "code",
   "execution_count": 14,
   "id": "921186a8-944b-4bc9-afa2-9bc3f75976df",
   "metadata": {},
   "outputs": [
    {
     "data": {
      "text/plain": [
       "User_id                 0\n",
       "Name                    0\n",
       "Quiz_id                 0\n",
       "Attempts                0\n",
       "Total_Score          6110\n",
       "quiz_question_id        0\n",
       "selected_option         0\n",
       "attempts                0\n",
       "question                0\n",
       "correct_answer          0\n",
       "level                   0\n",
       "question_no             0\n",
       "is_correct              0\n",
       "score               61168\n",
       "Question_Key            0\n",
       "dtype: int64"
      ]
     },
     "execution_count": 14,
     "metadata": {},
     "output_type": "execute_result"
    }
   ],
   "source": [
    "df_processed.isnull().sum()"
   ]
  },
  {
   "cell_type": "markdown",
   "id": "f1476934-706f-4877-8c97-0cace5c2fbc8",
   "metadata": {},
   "source": [
    "#### Dropped na values for higher accuracy"
   ]
  },
  {
   "cell_type": "code",
   "execution_count": 15,
   "id": "3c8371e1-3f32-418d-8b40-6e408fee6aee",
   "metadata": {},
   "outputs": [],
   "source": [
    "df_cleaned = df_processed.dropna()"
   ]
  },
  {
   "cell_type": "code",
   "execution_count": 16,
   "id": "63983806-d863-4400-8950-a2f7eb6333f9",
   "metadata": {},
   "outputs": [
    {
     "data": {
      "text/plain": [
       "(5639003, 15)"
      ]
     },
     "execution_count": 16,
     "metadata": {},
     "output_type": "execute_result"
    }
   ],
   "source": [
    "df_processed.shape"
   ]
  },
  {
   "cell_type": "markdown",
   "id": "825ed932-e4f4-4233-88c7-c07fb19f1a55",
   "metadata": {},
   "source": [
    "#### We have two similar columns Attempts and attempts"
   ]
  },
  {
   "cell_type": "code",
   "execution_count": 17,
   "id": "8fca8631-c81b-46fe-9f12-220c9cf64448",
   "metadata": {},
   "outputs": [],
   "source": [
    "df_cleaned = df_cleaned.drop(columns=['attempts'])"
   ]
  },
  {
   "cell_type": "markdown",
   "id": "d8c6c226-8173-45a7-a6a8-141f4aab69d4",
   "metadata": {},
   "source": [
    "#### Striping Whitespace "
   ]
  },
  {
   "cell_type": "code",
   "execution_count": 18,
   "id": "eac21cb4-6309-4990-92cf-3bb9fadf9a48",
   "metadata": {},
   "outputs": [],
   "source": [
    "str_cols = ['Name', 'selected_option', 'question', 'correct_answer', 'level']\n",
    "df_cleaned[str_cols] = df_cleaned[str_cols].apply(lambda x: x.str.strip())"
   ]
  },
  {
   "cell_type": "markdown",
   "id": "9db79897-cfd6-49c1-9103-22ac1fe3f93a",
   "metadata": {},
   "source": [
    "#### droping duplicate values"
   ]
  },
  {
   "cell_type": "code",
   "execution_count": 19,
   "id": "f7e35ec7-9ba7-4541-8b87-53a81d78e902",
   "metadata": {},
   "outputs": [],
   "source": [
    "df_cleaned = df_cleaned.drop_duplicates()"
   ]
  },
  {
   "cell_type": "code",
   "execution_count": 20,
   "id": "3dc4c4b8-c1cb-4cdf-a7ef-15708b36fb0d",
   "metadata": {},
   "outputs": [
    {
     "data": {
      "text/plain": [
       "(5577829, 14)"
      ]
     },
     "execution_count": 20,
     "metadata": {},
     "output_type": "execute_result"
    }
   ],
   "source": [
    "df_cleaned.shape"
   ]
  },
  {
   "cell_type": "markdown",
   "id": "cb9db71f-2f82-44fc-9e45-f35819d89b4b",
   "metadata": {},
   "source": [
    "## Exporting to CSV"
   ]
  },
  {
   "cell_type": "code",
   "execution_count": 21,
   "id": "4a1d757e-8f7c-4ed9-a5e6-1148abc5b495",
   "metadata": {},
   "outputs": [],
   "source": [
    "df_cleaned.to_csv('df_cleaned_4.csv', index=False)"
   ]
  },
  {
   "cell_type": "code",
   "execution_count": 22,
   "id": "231f0a43-fa68-478c-ac14-5abbcdb8d0d7",
   "metadata": {},
   "outputs": [
    {
     "name": "stdout",
     "output_type": "stream",
     "text": [
      "✅ Data loaded successfully!\n",
      "🔢 Shape: (5577829, 14)\n",
      "👀 Preview:\n",
      "   User_id          Name  Quiz_id  Attempts  Total_Score  quiz_question_id  \\\n",
      "0      656  Avani Sharma        4         1          9.0                31   \n",
      "1      656  Avani Sharma        4         1          9.0                32   \n",
      "2      656  Avani Sharma        4         1          9.0                33   \n",
      "3      656  Avani Sharma        4         1          9.0                34   \n",
      "4      656  Avani Sharma        4         1          9.0                35   \n",
      "\n",
      "                                     selected_option  \\\n",
      "0                Yes, it was fun and we learnt a lot   \n",
      "1                                               Both   \n",
      "2                                 A-3\\nB-2\\nC-4\\nD-1   \n",
      "3                                            Process   \n",
      "4  Some problems may have both types and some may...   \n",
      "\n",
      "                                            question  \\\n",
      "0  Were you able to finish the Workbook for Modul...   \n",
      "1  What kind of solution is this? \\n\\nIdea : 'Boo...   \n",
      "2                         Match column A to column B   \n",
      "3  What kind of solution is this? \\n\\nIdea : 'A t...   \n",
      "4  A problem can have only product based or proce...   \n",
      "\n",
      "                                      correct_answer level  question_no  \\\n",
      "0                Yes, it was fun and we learnt a lot  HARD            1   \n",
      "1                                            Product  HARD            2   \n",
      "2                                 A-3\\nB-2\\nC-4\\nD-1  HARD            3   \n",
      "3                                            Process  HARD            4   \n",
      "4  Some problems may have both types and some may...  HARD            5   \n",
      "\n",
      "   is_correct  score  Question_Key  \n",
      "0        True    9.0             1  \n",
      "1       False    1.0             2  \n",
      "2        True    2.0             3  \n",
      "3        True    3.0             4  \n",
      "4        True    4.0             5  \n"
     ]
    }
   ],
   "source": [
    "# Load the full cleaned data (don't print the whole thing!)\n",
    "df_final = pd.read_csv('df_cleaned.csv')\n",
    "\n",
    "print(\"✅ Data loaded successfully!\")\n",
    "print(\"🔢 Shape:\", df_final.shape)\n",
    "print(\"👀 Preview:\")\n",
    "print(df_final.head())  # Only shows first 5 rows\n"
   ]
  },
  {
   "cell_type": "code",
   "execution_count": null,
   "id": "cd1be329-23c8-418b-bf8c-93eabe1fd615",
   "metadata": {},
   "outputs": [],
   "source": []
  }
 ],
 "metadata": {
  "kernelspec": {
   "display_name": "Python 3 (ipykernel)",
   "language": "python",
   "name": "python3"
  },
  "language_info": {
   "codemirror_mode": {
    "name": "ipython",
    "version": 3
   },
   "file_extension": ".py",
   "mimetype": "text/x-python",
   "name": "python",
   "nbconvert_exporter": "python",
   "pygments_lexer": "ipython3",
   "version": "3.11.4"
  }
 },
 "nbformat": 4,
 "nbformat_minor": 5
}
