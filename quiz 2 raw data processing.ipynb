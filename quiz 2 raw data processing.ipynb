{
 "cells": [
  {
   "cell_type": "code",
   "execution_count": null,
   "id": "fee947eb-8203-4305-836e-b4892805fe0b",
   "metadata": {},
   "outputs": [],
   "source": [
    "import pandas as pd\n",
    "import json\n"
   ]
  },
  {
   "cell_type": "code",
   "execution_count": null,
   "id": "a2f75ac9-d06d-418d-8715-5b3bb7179a94",
   "metadata": {},
   "outputs": [],
   "source": [
    "# Load your CSV file\n",
    "df = pd.read_excel(\"quiz2.xlsx\")  # Replace with your actual file name\n"
   ]
  },
  {
   "cell_type": "code",
   "execution_count": null,
   "id": "baf7cea8-a90f-4a0b-ac0f-c79448221437",
   "metadata": {},
   "outputs": [],
   "source": [
    "# Parse JSON in 'Response' column\n",
    "parsed_data = []"
   ]
  },
  {
   "cell_type": "code",
   "execution_count": null,
   "id": "61ecdbd2-ceeb-4a69-b285-3db02428679f",
   "metadata": {},
   "outputs": [],
   "source": [
    "for _, row in df.iterrows():\n",
    "    try:\n",
    "        responses = json.loads(row['Response'])\n",
    "        for q_no, resp in responses.items():\n",
    "            parsed_data.append({\n",
    "                'User_id': row['User_id'],\n",
    "                'Name': row['Name'],\n",
    "                'Quiz_id': row['Quiz_id'],\n",
    "                'Attempts': row['Attempts'],\n",
    "                'Total_Score': row['Score'],\n",
    "                'Question_no': resp.get('question_no'),\n",
    "                'Question': resp.get('question'),\n",
    "                'Selected_Option': resp.get('selected_option'),\n",
    "                'Correct_Answer': resp.get('correct_answer'),\n",
    "                'Is_Correct': resp.get('is_correct'),\n",
    "                'Score_Obtained': resp.get('score'),\n",
    "                'Level': resp.get('level')\n",
    "            })\n",
    "    except Exception as e:\n",
    "        print(f\"Error parsing row: {e}\")\n"
   ]
  },
  {
   "cell_type": "code",
   "execution_count": null,
   "id": "99b49505-fb3c-4ad2-b02d-fb5cd66f60ba",
   "metadata": {},
   "outputs": [],
   "source": [
    "df[\"Total_Score\"]=df[\"Total_Score\"].apply(lambda x:10 if x>10 else x)"
   ]
  },
  {
   "cell_type": "code",
   "execution_count": null,
   "id": "866980c9-3002-4ec6-8193-391f9d669f5e",
   "metadata": {},
   "outputs": [],
   "source": [
    "# Create DataFrame\n",
    "processed_df = pd.DataFrame(parsed_data)\n",
    "\n",
    "# Save locally\n",
    "processed_df.to_csv(r\"C:\\Users\\Nitish\\Downloads\\output\\processed_quiz2.csv\", index=False)\n",
    "print(\"Processed data saved as 'processed_quiz_data.csv\")\n"
   ]
  },
  {
   "cell_type": "code",
   "execution_count": null,
   "id": "afb20506-3a25-4e7e-8cd2-08d63643e6d2",
   "metadata": {},
   "outputs": [],
   "source": []
  },
  {
   "cell_type": "code",
   "execution_count": null,
   "id": "aedb11f2-10de-4a3d-a325-02194f0d670d",
   "metadata": {},
   "outputs": [],
   "source": []
  },
  {
   "cell_type": "code",
   "execution_count": null,
   "id": "a95bde17-6836-4835-bbbb-d320dcd85449",
   "metadata": {},
   "outputs": [],
   "source": []
  },
  {
   "cell_type": "code",
   "execution_count": null,
   "id": "2cf76679-c85f-45d7-a0b9-ccc7d3c085c2",
   "metadata": {},
   "outputs": [],
   "source": []
  },
  {
   "cell_type": "code",
   "execution_count": null,
   "id": "a19d47aa-d6fe-4168-9f17-cbacf6f4d56e",
   "metadata": {},
   "outputs": [],
   "source": []
  },
  {
   "cell_type": "code",
   "execution_count": null,
   "id": "f3a79b24-7782-4c69-a7df-9ebb74e02902",
   "metadata": {},
   "outputs": [],
   "source": []
  },
  {
   "cell_type": "code",
   "execution_count": null,
   "id": "3a0bcb92-e07b-4e96-91ea-98fb0c202061",
   "metadata": {},
   "outputs": [],
   "source": []
  },
  {
   "cell_type": "code",
   "execution_count": null,
   "id": "954cfd6f-eeca-48ff-b8d9-467bb6c55836",
   "metadata": {},
   "outputs": [],
   "source": []
  },
  {
   "cell_type": "code",
   "execution_count": null,
   "id": "0f8bf298-416b-440a-9e32-81e5c576a80b",
   "metadata": {},
   "outputs": [],
   "source": []
  },
  {
   "cell_type": "code",
   "execution_count": null,
   "id": "39a87c5c-091a-4c04-b36b-4ae528c209fa",
   "metadata": {},
   "outputs": [],
   "source": []
  },
  {
   "cell_type": "code",
   "execution_count": null,
   "id": "77803c36-be94-4504-b198-503f7667bb71",
   "metadata": {},
   "outputs": [],
   "source": []
  },
  {
   "cell_type": "code",
   "execution_count": null,
   "id": "2689330c-0276-4a7f-80cc-beee16cd3b96",
   "metadata": {},
   "outputs": [],
   "source": []
  }
 ],
 "metadata": {
  "kernelspec": {
   "display_name": "Python 3 (ipykernel)",
   "language": "python",
   "name": "python3"
  },
  "language_info": {
   "codemirror_mode": {
    "name": "ipython",
    "version": 3
   },
   "file_extension": ".py",
   "mimetype": "text/x-python",
   "name": "python",
   "nbconvert_exporter": "python",
   "pygments_lexer": "ipython3",
   "version": "3.12.7"
  }
 },
 "nbformat": 4,
 "nbformat_minor": 5
}
